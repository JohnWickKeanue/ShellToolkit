{
  "nbformat": 4,
  "nbformat_minor": 0,
  "metadata": {
    "colab": {
      "name": "Shell.ipynb",
      "provenance": [],
      "collapsed_sections": [],
      "authorship_tag": "ABX9TyOVctDrkU5T4B6j5D3R0nVl",
      "include_colab_link": true
    },
    "kernelspec": {
      "name": "python3",
      "display_name": "Python 3"
    },
    "language_info": {
      "name": "python"
    }
  },
  "cells": [
    {
      "cell_type": "markdown",
      "metadata": {
        "id": "view-in-github",
        "colab_type": "text"
      },
      "source": [
        "<a href=\"https://colab.research.google.com/github/JohnWickKeanue/ShellToolkit/blob/master/Shell.ipynb\" target=\"_parent\"><img src=\"https://colab.research.google.com/assets/colab-badge.svg\" alt=\"Open In Colab\"/></a>"
      ]
    },
    {
      "cell_type": "code",
      "execution_count": null,
      "metadata": {
        "colab": {
          "base_uri": "https://localhost:8080/"
        },
        "id": "TU290Qzzpo9G",
        "outputId": "6c603154-0e5d-4132-a128-51ab3e1597f0"
      },
      "outputs": [
        {
          "metadata": {
            "tags": null
          },
          "name": "stdout",
          "output_type": "stream",
          "text": [
            "Bot ready.\n",
            "Chat «My Leech &Mirror»: running command «ls»\n",
            "Chat «My Leech &Mirror»: running command «ffmpeg -i \"https://s.johnwick-mirror-leech.workers.dev/0:/www.HTPMovies.org%20-%20Obi-Wan%20Kenobi%20S01E06%20Part%20VI%20480p%20DSNP%20WEB-DL%20x265%20%28AAC%202.0%29%20%5BTel%20%2B%20Tam%20%2B%20Hin%20%2B%20Mal%20%2B%20Eng%5D%20MSub.mkv\" -map 0:v -map 0:a -map 0:s? -metadata title=\"@TROOPORIGINALS\" -metadata:s:v title=\"TroopOriginals\" -metadata:s:a title=\"TroopOriginals\" -metadata:s:s title=\"TroopOriginals\" -codec copy '@TROOPORIGINALS K.G.F Chapter 2 Telugu 2022 1080p CBR AMZN WEBDL x264 Telugu DD5.1 640Kbps & AAC 2.0 11GB ESubs.mkv' && rclone copy '@TROOPORIGINALS K.G.F Chapter 2 Telugu 2022 1080p CBR AMZN WEBDL x264 Telugu DD5.1 640Kbps & AAC 2.0 11GB ESubs.mkv' Rose:»\n",
            "Chat «My Leech &Mirror»: running command «ffmpeg -i \"https://s.johnwick-mirror-leech.workers.dev/0:/www.HTPMovies.org%20-%20Obi-Wan%20Kenobi%20S01E06%20Part%20VI%20480p%20DSNP%20WEB-DL%20x265%20%28AAC%202.0%29%20%5BTel%20%2B%20Tam%20%2B%20Hin%20%2B%20Mal%20%2B%20Eng%5D%20MSub.mkv\"  -map 0:v -map 0:a -map 0:s? -metadata title=\"@MvZone_Ofcl\" -metadata:s:v title=\"@MvZone_Ofcl\" -metadata:s:a title=\"@MvZone_Ofcl\" -metadata:s:s title=\"@MvZone_Ofcl\" -codec copy '@MvZone_Ofcl K.G.F Chapter 2 (Hindi) (2022) 720p AMZN WEB-DL x264 [Hindi (DD+ 5.1 - 192Kbps & AAC 2.0)] ESubs.mkv' && rclone copy '@MvZone_Ofcl K.G.F Chapter 2 (Hindi) (2022) 720p AMZN WEB-DL x264 [Hindi (DD+ 5.1 - 192Kbps & AAC 2.0)] ESubs.mkv' Rose:»\n",
            "Chat «My Leech &Mirror»: running command «ffmpeg -i \"https://s.johnwick-mirror-leech.workers.dev/0:/www.HTPMovies.org%20-%20Doctor%20Strange%20in%20the%20Multiverse%20of%20Madness%20%282022%29%201080p%20DSNP%20WEB-DL%20x265%20%28DD%2B%205.1%20-%20192Kbps%29%20%5BTel%20%2B%20Tam%20%2B%20Hin%20%2B%20Eng%5D%20MSub.mkv\" -map 0 -map -0:v:1 -map -0:a:1 -map -0:a:2 -map -0:a:3 -c copy 'Doctor Strange in the Multiverse of Madness 2022 1080p DSNP WEB-DL x265 DDp 5.1 192Kbps Tel Eng MSub.mkv'»\n"
          ]
        }
      ],
      "source": [
        "! node server"
      ]
    }
  ]
}